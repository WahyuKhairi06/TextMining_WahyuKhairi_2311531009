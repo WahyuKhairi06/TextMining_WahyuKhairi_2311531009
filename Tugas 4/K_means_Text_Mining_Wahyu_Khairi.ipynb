{
  "nbformat": 4,
  "nbformat_minor": 0,
  "metadata": {
    "colab": {
      "provenance": [],
      "authorship_tag": "ABX9TyOgvtd2MSQHnujnhgQ7fP9+",
      "include_colab_link": true
    },
    "kernelspec": {
      "name": "python3",
      "display_name": "Python 3"
    },
    "language_info": {
      "name": "python"
    }
  },
  "cells": [
    {
      "cell_type": "markdown",
      "metadata": {
        "id": "view-in-github",
        "colab_type": "text"
      },
      "source": [
        "<a href=\"https://colab.research.google.com/github/WahyuKhairi06/TextMining_WahyuKhairi_2311531009/blob/main/Tugas%204/K_means_Text_Mining_Wahyu_Khairi.ipynb\" target=\"_parent\"><img src=\"https://colab.research.google.com/assets/colab-badge.svg\" alt=\"Open In Colab\"/></a>"
      ]
    },
    {
      "cell_type": "markdown",
      "source": [
        "# **TUGAS 4 TEKS MINING**"
      ],
      "metadata": {
        "id": "bRHOqi9YJMV-"
      }
    },
    {
      "cell_type": "markdown",
      "source": [
        "**Import Library**"
      ],
      "metadata": {
        "id": "XnjIGAgMJTOn"
      }
    },
    {
      "cell_type": "code",
      "source": [
        "import numpy as np\n",
        "import pandas as pd\n",
        "from sklearn.cluster import KMeans"
      ],
      "metadata": {
        "id": "ZWKKNqPKJSN7"
      },
      "execution_count": 16,
      "outputs": []
    },
    {
      "cell_type": "markdown",
      "source": [
        "**Dataset**"
      ],
      "metadata": {
        "id": "cbhAI2ylJW2P"
      }
    },
    {
      "cell_type": "code",
      "source": [
        "# Dataset dokumen\n",
        "docs = [\n",
        "    \"makan ayam enak\",       # D1\n",
        "    \"makan nasi\",            # D2\n",
        "    \"ayam goreng enak\",      # D3\n",
        "    \"python belajar\",        # D4\n",
        "    \"machine python\",        # D5\n",
        "    \"belajar python machine\" # D6\n",
        "]\n",
        "\n",
        "# Kosakata\n",
        "vocab = [\"makan\", \"ayam\", \"enak\", \"nasi\", \"goreng\", \"python\", \"belajar\", \"machine\"]"
      ],
      "metadata": {
        "id": "ZreBoin3JZ9P"
      },
      "execution_count": 17,
      "outputs": []
    },
    {
      "cell_type": "markdown",
      "source": [
        "**BoW**"
      ],
      "metadata": {
        "id": "OIgM-eF2JbNM"
      }
    },
    {
      "cell_type": "code",
      "source": [
        "# Representasi Bag-of-Words biner\n",
        "X = []\n",
        "for d in docs:\n",
        "    X.append([1 if w in d.split() else 0 for w in vocab])\n",
        "\n",
        "X = np.array(X)\n",
        "df = pd.DataFrame(X, columns=vocab, index=[f\"D{i+1}\" for i in range(len(docs))])\n",
        "print(\"=== Representasi BoW Binary ===\")\n",
        "print(df)"
      ],
      "metadata": {
        "colab": {
          "base_uri": "https://localhost:8080/"
        },
        "id": "N5_j4-S2KNc8",
        "outputId": "32a70c0e-27f5-4b09-d350-69498e882a74"
      },
      "execution_count": 18,
      "outputs": [
        {
          "output_type": "stream",
          "name": "stdout",
          "text": [
            "=== Representasi BoW Binary ===\n",
            "    makan  ayam  enak  nasi  goreng  python  belajar  machine\n",
            "D1      1     1     1     0       0       0        0        0\n",
            "D2      1     0     0     1       0       0        0        0\n",
            "D3      0     1     1     0       1       0        0        0\n",
            "D4      0     0     0     0       0       1        1        0\n",
            "D5      0     0     0     0       0       1        0        1\n",
            "D6      0     0     0     0       0       1        1        1\n"
          ]
        }
      ]
    },
    {
      "cell_type": "markdown",
      "source": [
        "**Centroid** awal"
      ],
      "metadata": {
        "id": "OH1oYPMNJkNX"
      }
    },
    {
      "cell_type": "code",
      "source": [
        "# Inisialisasi centroid awal: C1 = D1, C2 = D4\n",
        "C1 = X[0]  # D1\n",
        "C2 = X[3]  # D4\n",
        "centroids = np.array([C1, C2], dtype=float)"
      ],
      "metadata": {
        "id": "9Q_OrLZhKVPQ"
      },
      "execution_count": 19,
      "outputs": []
    },
    {
      "cell_type": "markdown",
      "source": [
        "**Kmeans 2 iterasi**"
      ],
      "metadata": {
        "id": "YxWgJPstKXgH"
      }
    },
    {
      "cell_type": "code",
      "source": [
        "#K-Means (2 Iterasi)\n",
        "\n",
        "for iteration in range(2):\n",
        "    print(f\"\\n=== Iterasi {iteration + 1} ===\")\n",
        "\n",
        "    # Hitung jarak Euclidean setiap dokumen ke tiap centroid\n",
        "    distances = np.zeros((len(X), 2))\n",
        "    for i, x in enumerate(X):\n",
        "        for j, c in enumerate(centroids):\n",
        "            distances[i, j] = np.linalg.norm(x - c)\n",
        "\n",
        "    df_dist = pd.DataFrame(distances, columns=[\"C1\", \"C2\"], index=df.index)\n",
        "    print(\"\\nJarak ke Centroid:\")\n",
        "    print(df_dist)\n",
        "\n",
        "    # Assign cluster berdasarkan jarak minimum\n",
        "    cluster_assign = np.argmin(distances, axis=1)\n",
        "    df_cluster = pd.DataFrame({\n",
        "        \"Dokumen\": df.index,\n",
        "        \"Cluster\": [\"C1\" if c == 0 else \"C2\" for c in cluster_assign]\n",
        "    })\n",
        "    print(\"\\nAssignment Cluster:\")\n",
        "    print(df_cluster)\n",
        "\n",
        "    # Update centroid (rata-rata anggota tiap cluster)\n",
        "    new_centroids = []\n",
        "    for k in range(2):\n",
        "        members = X[cluster_assign == k]\n",
        "        new_c = members.mean(axis=0)\n",
        "        new_centroids.append(new_c)\n",
        "    centroids = np.array(new_centroids)\n",
        "    print(\"\\nCentroid Baru:\")\n",
        "    print(pd.DataFrame(centroids, columns=vocab, index=[\"C1\", \"C2\"]))\n"
      ],
      "metadata": {
        "colab": {
          "base_uri": "https://localhost:8080/"
        },
        "id": "gErGYWBCKf7j",
        "outputId": "c765c311-016e-4158-c989-430166f48a27"
      },
      "execution_count": 20,
      "outputs": [
        {
          "output_type": "stream",
          "name": "stdout",
          "text": [
            "\n",
            "=== Iterasi 1 ===\n",
            "\n",
            "Jarak ke Centroid:\n",
            "          C1        C2\n",
            "D1  0.000000  2.236068\n",
            "D2  1.732051  2.000000\n",
            "D3  1.414214  2.236068\n",
            "D4  2.236068  0.000000\n",
            "D5  2.236068  1.414214\n",
            "D6  2.449490  1.000000\n",
            "\n",
            "Assignment Cluster:\n",
            "  Dokumen Cluster\n",
            "0      D1      C1\n",
            "1      D2      C1\n",
            "2      D3      C1\n",
            "3      D4      C2\n",
            "4      D5      C2\n",
            "5      D6      C2\n",
            "\n",
            "Centroid Baru:\n",
            "       makan      ayam      enak      nasi    goreng  python   belajar  \\\n",
            "C1  0.666667  0.666667  0.666667  0.333333  0.333333     0.0  0.000000   \n",
            "C2  0.000000  0.000000  0.000000  0.000000  0.000000     1.0  0.666667   \n",
            "\n",
            "     machine  \n",
            "C1  0.000000  \n",
            "C2  0.666667  \n",
            "\n",
            "=== Iterasi 2 ===\n",
            "\n",
            "Jarak ke Centroid:\n",
            "          C1        C2\n",
            "D1  0.745356  2.211083\n",
            "D2  1.247219  1.972027\n",
            "D3  1.105542  2.211083\n",
            "D4  1.885618  0.745356\n",
            "D5  1.885618  0.745356\n",
            "D6  2.134375  0.471405\n",
            "\n",
            "Assignment Cluster:\n",
            "  Dokumen Cluster\n",
            "0      D1      C1\n",
            "1      D2      C1\n",
            "2      D3      C1\n",
            "3      D4      C2\n",
            "4      D5      C2\n",
            "5      D6      C2\n",
            "\n",
            "Centroid Baru:\n",
            "       makan      ayam      enak      nasi    goreng  python   belajar  \\\n",
            "C1  0.666667  0.666667  0.666667  0.333333  0.333333     0.0  0.000000   \n",
            "C2  0.000000  0.000000  0.000000  0.000000  0.000000     1.0  0.666667   \n",
            "\n",
            "     machine  \n",
            "C1  0.000000  \n",
            "C2  0.666667  \n"
          ]
        }
      ]
    },
    {
      "cell_type": "markdown",
      "source": [
        "**Kmeans Sklearn**"
      ],
      "metadata": {
        "id": "4MkKP9LNJ3b1"
      }
    },
    {
      "cell_type": "code",
      "source": [
        "# KMeans sklearn\n",
        "\n",
        "kmeans = KMeans(n_clusters=2, random_state=0, n_init='auto').fit(X)\n",
        "labels = kmeans.labels_\n",
        "\n",
        "print(\"\\n=== Hasil KMeans sklearn ===\")\n",
        "for i, label in enumerate(labels):\n",
        "    print(f\"{df.index[i]} → Cluster {label+1}\")\n"
      ],
      "metadata": {
        "colab": {
          "base_uri": "https://localhost:8080/"
        },
        "id": "jwxfWy6pKdEB",
        "outputId": "2cb1f047-2a96-46a2-9cd2-7fef16458c78"
      },
      "execution_count": 21,
      "outputs": [
        {
          "output_type": "stream",
          "name": "stdout",
          "text": [
            "\n",
            "=== Hasil KMeans sklearn ===\n",
            "D1 → Cluster 2\n",
            "D2 → Cluster 1\n",
            "D3 → Cluster 2\n",
            "D4 → Cluster 1\n",
            "D5 → Cluster 1\n",
            "D6 → Cluster 1\n"
          ]
        }
      ]
    },
    {
      "cell_type": "markdown",
      "source": [
        "**hasil**"
      ],
      "metadata": {
        "id": "yy6ErAtkKBOA"
      }
    },
    {
      "cell_type": "code",
      "source": [
        "# Interpretasi hasil\n",
        "print(\"\\n=== Interpretasi ===\")\n",
        "print(\"Cluster 1 (manual): kemungkinan topik makanan\")\n",
        "print(\"Cluster 2 (manual): kemungkinan topik pemrograman\")\n",
        "\n",
        "print(\"\\nKata dominan pada tiap centroid manual:\")\n",
        "for i, c in enumerate(centroids):\n",
        "    dominant = [vocab[j] for j, val in enumerate(c) if val >= 0.5]\n",
        "    print(f\"C{i+1}: {dominant}\")"
      ],
      "metadata": {
        "colab": {
          "base_uri": "https://localhost:8080/"
        },
        "id": "sbTFRNr-KiW8",
        "outputId": "773bba11-9ea8-44ef-c01d-754279fd143a"
      },
      "execution_count": 22,
      "outputs": [
        {
          "output_type": "stream",
          "name": "stdout",
          "text": [
            "\n",
            "=== Interpretasi ===\n",
            "Cluster 1 (manual): kemungkinan topik makanan\n",
            "Cluster 2 (manual): kemungkinan topik pemrograman\n",
            "\n",
            "Kata dominan pada tiap centroid manual:\n",
            "C1: ['makan', 'ayam', 'enak']\n",
            "C2: ['python', 'belajar', 'machine']\n"
          ]
        }
      ]
    }
  ]
}